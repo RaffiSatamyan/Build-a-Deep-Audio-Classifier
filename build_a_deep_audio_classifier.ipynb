{
  "nbformat": 4,
  "nbformat_minor": 0,
  "metadata": {
    "colab": {
      "provenance": []
    },
    "kernelspec": {
      "name": "python3",
      "display_name": "Python 3"
    },
    "language_info": {
      "name": "python"
    }
  },
  "cells": [
    {
      "cell_type": "markdown",
      "source": [
        "## **1. Import and Install Dependencies**"
      ],
      "metadata": {
        "id": "6hqhn2wznjar"
      }
    },
    {
      "cell_type": "markdown",
      "source": [
        "**1.1 Install Dependencies**"
      ],
      "metadata": {
        "id": "Z7vGlM6Vn1BJ"
      }
    },
    {
      "cell_type": "code",
      "source": [
        "!pip install tensorflow==2.4.1 tensorflow-gpu==2.4.1 tensorflow-io matplotlib"
      ],
      "metadata": {
        "id": "-sa9SO9zoCfs"
      },
      "execution_count": null,
      "outputs": []
    },
    {
      "cell_type": "markdown",
      "source": [
        "**1.2 Load Dependencies**"
      ],
      "metadata": {
        "id": "JdUZWFbcoFDT"
      }
    },
    {
      "cell_type": "code",
      "source": [
        "import os\n",
        "from matplotlib import pyplot as plt\n",
        "import tensorflow as tf\n",
        "import tensorflow_io as tfio"
      ],
      "metadata": {
        "id": "g8LqPUpVoHiy"
      },
      "execution_count": null,
      "outputs": []
    },
    {
      "cell_type": "markdown",
      "source": [
        "# 2. Build Data Loading **Function**"
      ],
      "metadata": {
        "id": "cZO0yUxjoJ6S"
      }
    },
    {
      "cell_type": "markdown",
      "source": [
        "**2.1 Define Paths to Files**"
      ],
      "metadata": {
        "id": "bImIC1GQoMW6"
      }
    },
    {
      "cell_type": "code",
      "source": [
        "CAPUCHIN_FILE = os.path.join('data', 'Parsed_Capuchinbird_Clips', 'XC3776-3.wav')\n",
        "NOT_CAPUCHIN_FILE = os.path.join('data', 'Parsed_Not_Capuchinbird_Clips', 'afternoon-birds-song-in-forest-0.wav')"
      ],
      "metadata": {
        "id": "N99lc02xoQKq"
      },
      "execution_count": null,
      "outputs": []
    },
    {
      "cell_type": "markdown",
      "source": [
        "**2.2 Build Dataloading Function**"
      ],
      "metadata": {
        "id": "NNTgmTp3oRjy"
      }
    },
    {
      "cell_type": "code",
      "source": [
        "def load_wav_16k_mono(filename):\n",
        "    # Load encoded wav file\n",
        "    file_contents = tf.io.read_file(filename)\n",
        "    # Decode wav (tensors by channels)\n",
        "    wav, sample_rate = tf.audio.decode_wav(file_contents, desired_channels=1)\n",
        "    # Removes trailing axis\n",
        "    wav = tf.squeeze(wav, axis=-1)\n",
        "    sample_rate = tf.cast(sample_rate, dtype=tf.int64)\n",
        "    # Goes from 44100Hz to 16000hz - amplitude of the audio signal\n",
        "    wav = tfio.audio.resample(wav, rate_in=sample_rate, rate_out=16000)\n",
        "    return wav"
      ],
      "metadata": {
        "id": "AekYNmiRoTdq"
      },
      "execution_count": null,
      "outputs": []
    },
    {
      "cell_type": "markdown",
      "source": [
        "**2.3 Plot Wave**"
      ],
      "metadata": {
        "id": "LTsgLbTyoXSs"
      }
    },
    {
      "cell_type": "code",
      "source": [
        "wave = load_wav_16k_mono(CAPUCHIN_FILE)\n",
        "nwave = load_wav_16k_mono(NOT_CAPUCHIN_FILE)"
      ],
      "metadata": {
        "id": "UcRO-4WeoaCE"
      },
      "execution_count": null,
      "outputs": []
    },
    {
      "cell_type": "code",
      "source": [
        "plt.plot(wave)\n",
        "plt.plot(nwave)\n",
        "plt.show()"
      ],
      "metadata": {
        "id": "ch5LLBcAocTB"
      },
      "execution_count": null,
      "outputs": []
    },
    {
      "cell_type": "markdown",
      "source": [
        "# **3. Create Tensorflow Dataset**"
      ],
      "metadata": {
        "id": "lXFtD3X9oeGZ"
      }
    },
    {
      "cell_type": "markdown",
      "source": [
        "**3.1 Define Paths to Positive and Negative Data**"
      ],
      "metadata": {
        "id": "TOKf9Sevof75"
      }
    },
    {
      "cell_type": "code",
      "source": [
        "POS = os.path.join('data', 'Parsed_Capuchinbird_Clips')\n",
        "NEG = os.path.join('data', 'Parsed_Not_Capuchinbird_Clips')"
      ],
      "metadata": {
        "id": "SZP-okGCohLK"
      },
      "execution_count": null,
      "outputs": []
    },
    {
      "cell_type": "markdown",
      "source": [
        "**3.2 Create Tensorflow Datasets**"
      ],
      "metadata": {
        "id": "JgTF1z9hoifi"
      }
    },
    {
      "cell_type": "code",
      "source": [
        "pos = tf.data.Dataset.list_files(POS+'\\*.wav')\n",
        "neg = tf.data.Dataset.list_files(NEG+'\\*.wav')"
      ],
      "metadata": {
        "id": "iItqzav0okNR"
      },
      "execution_count": null,
      "outputs": []
    },
    {
      "cell_type": "markdown",
      "source": [
        "**3.3 Add labels and Combine Positive and Negative Samples**"
      ],
      "metadata": {
        "id": "n_fRPI8iopFS"
      }
    },
    {
      "cell_type": "code",
      "source": [
        "positives = tf.data.Dataset.zip((pos, tf.data.Dataset.from_tensor_slices(tf.ones(len(pos)))))\n",
        "negatives = tf.data.Dataset.zip((neg, tf.data.Dataset.from_tensor_slices(tf.zeros(len(neg)))))\n",
        "data = positives.concatenate(negatives)"
      ],
      "metadata": {
        "id": "P8gtqxkAoljC"
      },
      "execution_count": null,
      "outputs": []
    },
    {
      "cell_type": "markdown",
      "source": [
        "# **4. Determine Average Length of a Capuchin Call**"
      ],
      "metadata": {
        "id": "llswTASVotBx"
      }
    },
    {
      "cell_type": "markdown",
      "source": [
        "**4.1 Calculate Wave Cycle Length**"
      ],
      "metadata": {
        "id": "zEkU9jaNouNR"
      }
    },
    {
      "cell_type": "code",
      "source": [
        "lengths = []\n",
        "for file in os.listdir(os.path.join('data', 'Parsed_Capuchinbird_Clips')):\n",
        "    tensor_wave = load_wav_16k_mono(os.path.join('data', 'Parsed_Capuchinbird_Clips', file))\n",
        "    lengths.append(len(tensor_wave))"
      ],
      "metadata": {
        "id": "MJf_Wy_zovjZ"
      },
      "execution_count": null,
      "outputs": []
    },
    {
      "cell_type": "markdown",
      "source": [
        "**4.2 Calculate Mean, Min and Max**"
      ],
      "metadata": {
        "id": "pck1dFyQow8K"
      }
    },
    {
      "cell_type": "code",
      "source": [
        "tf.math.reduce_mean(lengths)"
      ],
      "metadata": {
        "id": "h4HCehbWo0yZ"
      },
      "execution_count": null,
      "outputs": []
    },
    {
      "cell_type": "code",
      "source": [
        "tf.math.reduce_min(lengths)"
      ],
      "metadata": {
        "id": "tH3QIpKao1wx"
      },
      "execution_count": null,
      "outputs": []
    },
    {
      "cell_type": "code",
      "source": [
        "tf.math.reduce_max(lengths)"
      ],
      "metadata": {
        "id": "FC7sNqKQo2C5"
      },
      "execution_count": null,
      "outputs": []
    },
    {
      "cell_type": "markdown",
      "source": [
        "# **5. Build Preprocessing Function to Convert to Spectrogram**"
      ],
      "metadata": {
        "id": "umpDtdTio7Bb"
      }
    },
    {
      "cell_type": "markdown",
      "source": [
        "**5.1 Build Preprocessing Function**"
      ],
      "metadata": {
        "id": "fHqIbdXKo7YB"
      }
    },
    {
      "cell_type": "code",
      "source": [
        "def preprocess(file_path, label):\n",
        "    wav = load_wav_16k_mono(file_path)\n",
        "    wav = wav[:48000]\n",
        "    zero_padding = tf.zeros([48000] - tf.shape(wav), dtype=tf.float32)\n",
        "    wav = tf.concat([zero_padding, wav],0)\n",
        "    spectrogram = tf.signal.stft(wav, frame_length=320, frame_step=32)\n",
        "    spectrogram = tf.abs(spectrogram)\n",
        "    spectrogram = tf.expand_dims(spectrogram, axis=2)\n",
        "    return spectrogram, label"
      ],
      "metadata": {
        "id": "4T-dadMMo5wh"
      },
      "execution_count": null,
      "outputs": []
    },
    {
      "cell_type": "markdown",
      "source": [
        "**5.2 Test Out the Function and Viz the Spectrogram**"
      ],
      "metadata": {
        "id": "b1nH3dtUpAJZ"
      }
    },
    {
      "cell_type": "code",
      "source": [
        "filepath, label = positives.shuffle(buffer_size=10000).as_numpy_iterator().next()"
      ],
      "metadata": {
        "id": "YoyyUGrVpC8b"
      },
      "execution_count": null,
      "outputs": []
    },
    {
      "cell_type": "code",
      "source": [
        "spectrogram, label = preprocess(filepath, label)"
      ],
      "metadata": {
        "id": "aHtv-H-SpDYS"
      },
      "execution_count": null,
      "outputs": []
    },
    {
      "cell_type": "code",
      "source": [
        "plt.figure(figsize=(30,20))\n",
        "plt.imshow(tf.transpose(spectrogram)[0])\n",
        "plt.show()"
      ],
      "metadata": {
        "id": "VOIPj5khpDpa"
      },
      "execution_count": null,
      "outputs": []
    },
    {
      "cell_type": "markdown",
      "source": [
        "# **6. Create Training and Testing Partitions**"
      ],
      "metadata": {
        "id": "XQ9RyanppLRS"
      }
    },
    {
      "cell_type": "markdown",
      "source": [
        "**6.1 Create a Tensorflow Data Pipeline**"
      ],
      "metadata": {
        "id": "WWu_9wLNpQ3S"
      }
    },
    {
      "cell_type": "code",
      "source": [
        "data = data.map(preprocess)\n",
        "data = data.cache()\n",
        "data = data.shuffle(buffer_size=1000)\n",
        "data = data.batch(16)\n",
        "data = data.prefetch(8)"
      ],
      "metadata": {
        "id": "ZdhKBfGmpN2a"
      },
      "execution_count": null,
      "outputs": []
    },
    {
      "cell_type": "markdown",
      "source": [
        "**6.2 Split into Training and Testing Partitions**"
      ],
      "metadata": {
        "id": "bYQfR6__pLjr"
      }
    },
    {
      "cell_type": "code",
      "source": [
        "train = data.take(36)\n",
        "test = data.skip(36).take(15)"
      ],
      "metadata": {
        "id": "QTkUL0dVpJ_L"
      },
      "execution_count": null,
      "outputs": []
    },
    {
      "cell_type": "markdown",
      "source": [
        "**6.3 Test One Batch**"
      ],
      "metadata": {
        "id": "3c2ZIZrqpYPa"
      }
    },
    {
      "cell_type": "code",
      "source": [
        "samples, labels = train.as_numpy_iterator().next()"
      ],
      "metadata": {
        "id": "XhOFSh7MpXjK"
      },
      "execution_count": null,
      "outputs": []
    },
    {
      "cell_type": "code",
      "source": [
        "samples.shape"
      ],
      "metadata": {
        "id": "yinxWkbmpbdU"
      },
      "execution_count": null,
      "outputs": []
    },
    {
      "cell_type": "markdown",
      "source": [
        "# **7. Build Deep Learning Model**"
      ],
      "metadata": {
        "id": "aZjKuLLKpXK6"
      }
    },
    {
      "cell_type": "markdown",
      "source": [
        "**7.1 Load Tensorflow Dependencies**"
      ],
      "metadata": {
        "id": "UgoVtUhxpfSq"
      }
    },
    {
      "cell_type": "code",
      "source": [
        "from tensorflow.keras.models import Sequential\n",
        "from tensorflow.keras.layers import Conv2D, Dense, Flatten"
      ],
      "metadata": {
        "id": "D4TSWVMypZFq"
      },
      "execution_count": null,
      "outputs": []
    },
    {
      "cell_type": "markdown",
      "source": [
        "**7.2 Build Sequential Model, Compile and View Summary**"
      ],
      "metadata": {
        "id": "HjkiS1KPppOi"
      }
    },
    {
      "cell_type": "code",
      "source": [
        "model = Sequential()\n",
        "model.add(Conv2D(16, (3,3), activation='relu', input_shape=(1491, 257,1)))\n",
        "model.add(Conv2D(16, (3,3), activation='relu'))\n",
        "model.add(Flatten())\n",
        "model.add(Dense(128, activation='relu'))\n",
        "model.add(Dense(1, activation='sigmoid'))"
      ],
      "metadata": {
        "id": "AroMkFLRpj2C"
      },
      "execution_count": null,
      "outputs": []
    },
    {
      "cell_type": "code",
      "source": [
        "model.compile('Adam', loss='BinaryCrossentropy', metrics=[tf.keras.metrics.Recall(),tf.keras.metrics.Precision()])"
      ],
      "metadata": {
        "id": "gzsSFfg_ptKT"
      },
      "execution_count": null,
      "outputs": []
    },
    {
      "cell_type": "code",
      "source": [
        "model.summary()"
      ],
      "metadata": {
        "id": "37ThKskYpun6"
      },
      "execution_count": null,
      "outputs": []
    },
    {
      "cell_type": "markdown",
      "source": [
        "**7.3 Fit Model, View Loss and KPI Plots**"
      ],
      "metadata": {
        "id": "0P_ecGsUpwV7"
      }
    },
    {
      "cell_type": "code",
      "source": [
        "hist = model.fit(train, epochs=4, validation_data=test)"
      ],
      "metadata": {
        "id": "pp87daR_pvvS"
      },
      "execution_count": null,
      "outputs": []
    },
    {
      "cell_type": "code",
      "source": [
        "plt.title('Loss')\n",
        "plt.plot(hist.history['loss'], 'r')\n",
        "plt.plot(hist.history['val_loss'], 'b')\n",
        "plt.show()"
      ],
      "metadata": {
        "id": "Ajk77WvzpzUS"
      },
      "execution_count": null,
      "outputs": []
    },
    {
      "cell_type": "code",
      "source": [
        "plt.title('Precision')\n",
        "plt.plot(hist.history['precision'], 'r')\n",
        "plt.plot(hist.history['val_precision'], 'b')\n",
        "plt.show()"
      ],
      "metadata": {
        "id": "eQEHIcPhp07q"
      },
      "execution_count": null,
      "outputs": []
    },
    {
      "cell_type": "code",
      "source": [
        "plt.title('Recall')\n",
        "plt.plot(hist.history['recall'], 'r')\n",
        "plt.plot(hist.history['val_recall'], 'b')\n",
        "plt.show()"
      ],
      "metadata": {
        "id": "7BZxVEtUp2GC"
      },
      "execution_count": null,
      "outputs": []
    },
    {
      "cell_type": "markdown",
      "source": [
        "# **8. Make a Prediction on a Single Clip**"
      ],
      "metadata": {
        "id": "gavS9yD5p4dy"
      }
    },
    {
      "cell_type": "markdown",
      "source": [
        "**8.1 Get One Batch and Make a Prediction**"
      ],
      "metadata": {
        "id": "rFdmtRY7p4yC"
      }
    },
    {
      "cell_type": "code",
      "source": [
        "X_test, y_test = test.as_numpy_iterator().next()"
      ],
      "metadata": {
        "id": "-vwmvMJ1p3ZC"
      },
      "execution_count": null,
      "outputs": []
    },
    {
      "cell_type": "code",
      "source": [
        "yhat = model.predict(X_test)"
      ],
      "metadata": {
        "id": "dZF71pMcp8rM"
      },
      "execution_count": null,
      "outputs": []
    },
    {
      "cell_type": "markdown",
      "source": [
        "**8.2 Convert Logits to Classes**"
      ],
      "metadata": {
        "id": "KRwm4-hop-rj"
      }
    },
    {
      "cell_type": "code",
      "source": [
        "yhat = [1 if prediction > 0.5 else 0 for prediction in yhat]"
      ],
      "metadata": {
        "id": "L0yLNxz2p_36"
      },
      "execution_count": null,
      "outputs": []
    },
    {
      "cell_type": "markdown",
      "source": [
        "# **9. Build Forest Parsing Functions**"
      ],
      "metadata": {
        "id": "K37whAV0qBFa"
      }
    },
    {
      "cell_type": "markdown",
      "source": [
        "**9.1 Load up MP3s**"
      ],
      "metadata": {
        "id": "bpC8ZeRlqCPq"
      }
    },
    {
      "cell_type": "code",
      "source": [
        "def load_mp3_16k_mono(filename):\n",
        "    \"\"\" Load a WAV file, convert it to a float tensor, resample to 16 kHz single-channel audio. \"\"\"\n",
        "    res = tfio.audio.AudioIOTensor(filename)\n",
        "    # Convert to tensor and combine channels\n",
        "    tensor = res.to_tensor()\n",
        "    tensor = tf.math.reduce_sum(tensor, axis=1) / 2\n",
        "    # Extract sample rate and cast\n",
        "    sample_rate = res.rate\n",
        "    sample_rate = tf.cast(sample_rate, dtype=tf.int64)\n",
        "    # Resample to 16 kHz\n",
        "    wav = tfio.audio.resample(tensor, rate_in=sample_rate, rate_out=16000)\n",
        "    return wav"
      ],
      "metadata": {
        "id": "w0wFE72bqEUa"
      },
      "execution_count": null,
      "outputs": []
    },
    {
      "cell_type": "code",
      "source": [
        "mp3 = os.path.join('data', 'Forest Recordings', 'recording_00.mp3')"
      ],
      "metadata": {
        "id": "WhrdCfy_qFta"
      },
      "execution_count": null,
      "outputs": []
    },
    {
      "cell_type": "code",
      "source": [
        "wav = load_mp3_16k_mono(mp3)"
      ],
      "metadata": {
        "id": "iFxUrlQ7qGyK"
      },
      "execution_count": null,
      "outputs": []
    },
    {
      "cell_type": "code",
      "source": [
        "audio_slices = tf.keras.utils.timeseries_dataset_from_array(wav, wav, sequence_length=48000, sequence_stride=48000, batch_size=1)"
      ],
      "metadata": {
        "id": "Zk4ePIcgqIXa"
      },
      "execution_count": null,
      "outputs": []
    },
    {
      "cell_type": "code",
      "source": [
        "samples, index = audio_slices.as_numpy_iterator().next()"
      ],
      "metadata": {
        "id": "3iErQvweqKCi"
      },
      "execution_count": null,
      "outputs": []
    },
    {
      "cell_type": "markdown",
      "source": [
        "**9.2 Build Function to Convert Clips into Windowed Spectrograms**"
      ],
      "metadata": {
        "id": "_Ck0Zh2dqLbK"
      }
    },
    {
      "cell_type": "code",
      "source": [
        "def preprocess_mp3(sample, index):\n",
        "    sample = sample[0]\n",
        "    zero_padding = tf.zeros([48000] - tf.shape(sample), dtype=tf.float32)\n",
        "    wav = tf.concat([zero_padding, sample],0)\n",
        "    spectrogram = tf.signal.stft(wav, frame_length=320, frame_step=32)\n",
        "    spectrogram = tf.abs(spectrogram)\n",
        "    spectrogram = tf.expand_dims(spectrogram, axis=2)\n",
        "    return spectrogram"
      ],
      "metadata": {
        "id": "MbVcEJkkqLNT"
      },
      "execution_count": null,
      "outputs": []
    },
    {
      "cell_type": "markdown",
      "source": [
        "**9.3 Convert Longer Clips into Windows and Make Predictions**"
      ],
      "metadata": {
        "id": "7xa2D-jrqNQT"
      }
    },
    {
      "cell_type": "code",
      "source": [
        "audio_slices = tf.keras.utils.timeseries_dataset_from_array(wav, wav, sequence_length=16000, sequence_stride=16000, batch_size=1)\n",
        "audio_slices = audio_slices.map(preprocess_mp3)\n",
        "audio_slices = audio_slices.batch(64)"
      ],
      "metadata": {
        "id": "giOBJVcEqNgS"
      },
      "execution_count": null,
      "outputs": []
    },
    {
      "cell_type": "code",
      "source": [
        "yhat = model.predict(audio_slices)\n",
        "yhat = [1 if prediction > 0.5 else 0 for prediction in yhat]"
      ],
      "metadata": {
        "id": "dAFuKsmwqQ-k"
      },
      "execution_count": null,
      "outputs": []
    },
    {
      "cell_type": "markdown",
      "source": [
        "**9.4 Group Consecutive Detections**"
      ],
      "metadata": {
        "id": "pNNoIGI5qSQj"
      }
    },
    {
      "cell_type": "code",
      "source": [
        "from itertools import groupby"
      ],
      "metadata": {
        "id": "vNeyWvC9qUiy"
      },
      "execution_count": null,
      "outputs": []
    },
    {
      "cell_type": "code",
      "source": [
        "yhat = [key for key, group in groupby(yhat)]\n",
        "calls = tf.math.reduce_sum(yhat).numpy()"
      ],
      "metadata": {
        "id": "GPDAJynUqV26"
      },
      "execution_count": null,
      "outputs": []
    },
    {
      "cell_type": "code",
      "source": [
        "calls"
      ],
      "metadata": {
        "id": "VhcvBEG1qW06"
      },
      "execution_count": null,
      "outputs": []
    },
    {
      "cell_type": "markdown",
      "source": [
        "# **10. Make Predictions**"
      ],
      "metadata": {
        "id": "hjQgZniyqYKa"
      }
    },
    {
      "cell_type": "markdown",
      "source": [
        "**10.1 Loop over all recordings and make predictions**"
      ],
      "metadata": {
        "id": "9X2W13k7qaVi"
      }
    },
    {
      "cell_type": "code",
      "source": [
        "results = {}\n",
        "for file in os.listdir(os.path.join('data', 'Forest Recordings')):\n",
        "    FILEPATH = os.path.join('data','Forest Recordings', file)\n",
        "\n",
        "    wav = load_mp3_16k_mono(FILEPATH)\n",
        "    audio_slices = tf.keras.utils.timeseries_dataset_from_array(wav, wav, sequence_length=48000, sequence_stride=48000, batch_size=1)\n",
        "    audio_slices = audio_slices.map(preprocess_mp3)\n",
        "    audio_slices = audio_slices.batch(64)\n",
        "\n",
        "    yhat = model.predict(audio_slices)\n",
        "\n",
        "    results[file] = yhat"
      ],
      "metadata": {
        "id": "sMW0fnbyqa8K"
      },
      "execution_count": null,
      "outputs": []
    },
    {
      "cell_type": "code",
      "source": [
        "results"
      ],
      "metadata": {
        "id": "EHTKj_WtqcNS"
      },
      "execution_count": null,
      "outputs": []
    },
    {
      "cell_type": "markdown",
      "source": [
        "**10.2 Convert Predictions into Classes**"
      ],
      "metadata": {
        "id": "MQQI61j5qefa"
      }
    },
    {
      "cell_type": "code",
      "source": [
        "class_preds = {}\n",
        "for file, logits in results.items():\n",
        "    class_preds[file] = [1 if prediction > 0.99 else 0 for prediction in logits]\n",
        "class_preds"
      ],
      "metadata": {
        "id": "YBrYtrzIqgOS"
      },
      "execution_count": null,
      "outputs": []
    },
    {
      "cell_type": "markdown",
      "source": [
        "**10.3 Group Consecutive Detections**"
      ],
      "metadata": {
        "id": "jDim7_YZqiUT"
      }
    },
    {
      "cell_type": "code",
      "source": [
        "postprocessed = {}\n",
        "for file, scores in class_preds.items():\n",
        "    postprocessed[file] = tf.math.reduce_sum([key for key, group in groupby(scores)]).numpy()\n",
        "postprocessed"
      ],
      "metadata": {
        "id": "rcUjNP1Lqhdy"
      },
      "execution_count": null,
      "outputs": []
    },
    {
      "cell_type": "markdown",
      "source": [
        "# **11. Export Results**"
      ],
      "metadata": {
        "id": "9FXd8WpcqmLy"
      }
    },
    {
      "cell_type": "code",
      "source": [
        "import csv"
      ],
      "metadata": {
        "id": "60T65epJqoOS"
      },
      "execution_count": null,
      "outputs": []
    },
    {
      "cell_type": "code",
      "source": [
        "with open('results.csv', 'w', newline='') as f:\n",
        "    writer = csv.writer(f, delimiter=',')\n",
        "    writer.writerow(['recording', 'capuchin_calls'])\n",
        "    for key, value in postprocessed.items():\n",
        "        writer.writerow([key, value])"
      ],
      "metadata": {
        "id": "CSjgKPXSqqGw"
      },
      "execution_count": null,
      "outputs": []
    }
  ]
}